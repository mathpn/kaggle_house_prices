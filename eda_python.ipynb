{
 "cells": [
  {
   "cell_type": "code",
   "execution_count": null,
   "metadata": {},
   "outputs": [],
   "source": [
    "import numpy as np\n",
    "import pandas as pd\n",
    "import matplotlib.pyplot as plt\n",
    "import seaborn as sns"
   ]
  },
  {
   "cell_type": "code",
   "execution_count": null,
   "metadata": {},
   "outputs": [],
   "source": [
    "train_data = pd.read_csv(\"data/train.csv\")\n",
    "test_data = pd.read_csv(\"data/test.csv\")"
   ]
  },
  {
   "cell_type": "code",
   "execution_count": null,
   "metadata": {},
   "outputs": [],
   "source": [
    "train_data.head()"
   ]
  },
  {
   "attachments": {},
   "cell_type": "markdown",
   "metadata": {},
   "source": [
    "Let's first take a look at our target variable:"
   ]
  },
  {
   "cell_type": "code",
   "execution_count": null,
   "metadata": {},
   "outputs": [],
   "source": [
    "ax = sns.histplot(train_data[\"SalePrice\"], kde=True)"
   ]
  },
  {
   "attachments": {},
   "cell_type": "markdown",
   "metadata": {},
   "source": [
    "It's clear that the distribution of SalePrice has a positive skew and is not exactly normal."
   ]
  },
  {
   "cell_type": "code",
   "execution_count": null,
   "metadata": {},
   "outputs": [],
   "source": [
    "numeric_columns = train_data.select_dtypes(include=[np.number]).columns\n",
    "n_cols = int(np.ceil(len(numeric_columns) / 6))\n",
    "\n",
    "fig, ax = plt.subplots(nrows=6, ncols=n_cols, figsize=(20,30), squeeze=False)\n",
    "for i, col_name in enumerate(numeric_columns):\n",
    "    row = i // n_cols\n",
    "    col = i % n_cols\n",
    "    sns.histplot(train_data[col_name], kde=False, ax=ax[row][col])\n",
    "    ax[row][col].set_title(col_name)\n",
    "plt.tight_layout()\n",
    "plt.show()"
   ]
  },
  {
   "attachments": {},
   "cell_type": "markdown",
   "metadata": {},
   "source": [
    "Well, many variables are not normally distributed. Also, many of them seem to be count variables with discrete values. Some have very strong skew and kurtosis, while others have zero-inflated distributions. These facts are important to understand before fitting a model.\n",
    "\n",
    "Let's also have a look at correlation matrix plots to see if we can spot some obvious or interesting correlations. We'll use Spearman correlation since most variables are not normally distributed."
   ]
  },
  {
   "cell_type": "code",
   "execution_count": null,
   "metadata": {},
   "outputs": [],
   "source": [
    "numeric_columns = train_data.select_dtypes(include=[np.number]).columns\n",
    "\n",
    "fig, ax = plt.subplots(figsize=(12, 9))\n",
    "sns.heatmap(train_data[numeric_columns].corr())"
   ]
  },
  {
   "attachments": {},
   "cell_type": "markdown",
   "metadata": {},
   "source": [
    "Some variables seem to provide little extra information over others, for example, YearBuilt and GarageYrBlt. This means there is quite a lot of multicolinearity in the data. This is very relevant if we want to fit a linear model.\n",
    "\n",
    "Let's finally take a look at the variables with the highest correlation with the target variable."
   ]
  },
  {
   "cell_type": "code",
   "execution_count": null,
   "metadata": {},
   "outputs": [],
   "source": [
    "print(train_data[numeric_columns].corr()[\"SalePrice\"].sort_values(ascending=False)[:20])"
   ]
  },
  {
   "attachments": {},
   "cell_type": "markdown",
   "metadata": {},
   "source": [
    "Overall quality, ground living area, year built, garage capacity and the number of full bathrooms are the variables most correlated with the target variable.\n",
    "\n",
    "One critical issue for our sale price predictor is (potentially) missing data. Let's take a look at it:"
   ]
  },
  {
   "cell_type": "code",
   "execution_count": null,
   "metadata": {},
   "outputs": [],
   "source": [
    "n_train = len(train_data)\n",
    "all_data = pd.concat((train_data, test_data))\n",
    "y_train = train_data[\"SalePrice\"].values\n",
    "all_data = all_data.drop([\"SalePrice\"], axis=1)\n",
    "\n",
    "\n",
    "na_proportion = all_data.isnull().sum() / len(all_data) * 100\n",
    "na_proportion = na_proportion.drop(na_proportion[na_proportion == 0].index)\n",
    "na_proportion = na_proportion.sort_values(ascending=False)\n",
    "na_proportion = pd.DataFrame({\"NA proportion\": na_proportion})\n",
    "na_proportion.head(50)"
   ]
  },
  {
   "attachments": {},
   "cell_type": "markdown",
   "metadata": {},
   "source": [
    "According to the data description, many of those NA values are actually \"not present\" values. Therefore we can replace them:"
   ]
  },
  {
   "cell_type": "code",
   "execution_count": null,
   "metadata": {},
   "outputs": [],
   "source": [
    "fillna_cols = [\n",
    "    \"PoolQC\", \"MiscFeature\", \"Alley\", \"Fence\", \"FireplaceQu\",\n",
    "    \"GarageType\", \"GarageFinish\", \"GarageQual\", \"GarageCond\",\n",
    "    \"BsmtQual\", \"BsmtCond\", \"BsmtExposure\", \"BsmtFinType1\",\n",
    "    \"BsmtFinType2\", \"MasVnrType\", \"MSSubClass\",\n",
    "]\n",
    "\n",
    "for col in fillna_cols:\n",
    "    all_data[col] = all_data[col].fillna(\"None\")"
   ]
  },
  {
   "attachments": {},
   "cell_type": "markdown",
   "metadata": {},
   "source": [
    "For the other variables, we'll use either the median/mean/mode or 0:"
   ]
  },
  {
   "cell_type": "code",
   "execution_count": null,
   "metadata": {},
   "outputs": [],
   "source": [
    "all_data[\"LotFrontage\"] = all_data.groupby(\"Neighborhood\")[\"LotFrontage\"].transform(\n",
    "    lambda x: x.fillna(x.median())\n",
    ")\n",
    "all_data[\"GarageYrBlt\"] = all_data[\"GarageYrBlt\"].fillna(all_data[\"GarageYrBlt\"].mean())"
   ]
  },
  {
   "attachments": {},
   "cell_type": "markdown",
   "metadata": {},
   "source": [
    "We could fill GarageYrBlt with 0 since there's no garage and, in practive, the variable is not defined. However, that would zero-inflate the variable and potentially distort its distribution - especially since years start at least in the 1800s range, making 0 a very strong outlier."
   ]
  },
  {
   "cell_type": "code",
   "execution_count": null,
   "metadata": {},
   "outputs": [],
   "source": [
    "_ = sns.histplot(all_data[\"MasVnrArea\"], kde=True)"
   ]
  },
  {
   "attachments": {},
   "cell_type": "markdown",
   "metadata": {},
   "source": [
    "MasVnrArea is already severely zero-inflated, so we'll fill the missing values with zero."
   ]
  },
  {
   "cell_type": "code",
   "execution_count": null,
   "metadata": {},
   "outputs": [],
   "source": [
    "all_data[\"MasVnrArea\"] = all_data[\"MasVnrArea\"].fillna(0)"
   ]
  },
  {
   "cell_type": "code",
   "execution_count": null,
   "metadata": {},
   "outputs": [],
   "source": [
    "all_data[\"BsmtFullBath\"] = all_data[\"BsmtFullBath\"].fillna(all_data[\"BsmtFullBath\"].mode()[0])\n",
    "all_data[\"Utilities\"] = all_data[\"Utilities\"].fillna(all_data[\"Utilities\"].mode()[0])\n",
    "all_data[\"Functional\"] = all_data[\"Functional\"].fillna(all_data[\"Functional\"].mode()[0])\n",
    "all_data[\"MSZoning\"] = all_data[\"MSZoning\"].fillna(all_data[\"MSZoning\"].mode()[0])\n",
    "all_data[\"Exterior1st\"] = all_data[\"Exterior1st\"].fillna(all_data[\"Exterior1st\"].mode()[0])\n",
    "all_data[\"Exterior2nd\"] = all_data[\"Exterior2nd\"].fillna(all_data[\"Exterior2nd\"].mode()[0])\n",
    "all_data[\"Electrical\"] = all_data[\"Electrical\"].fillna(all_data[\"Electrical\"].mode()[0])\n",
    "all_data[\"KitchenQual\"] = all_data[\"KitchenQual\"].fillna(all_data[\"KitchenQual\"].mode()[0])\n",
    "all_data[\"SaleType\"] = all_data[\"SaleType\"].fillna(all_data[\"SaleType\"].mode()[0])"
   ]
  },
  {
   "cell_type": "code",
   "execution_count": null,
   "metadata": {},
   "outputs": [],
   "source": [
    "for col in (\"GarageArea\", \"GarageCars\", \"BsmtFinSF1\", \"BsmtFinSF2\", \"BsmtUnfSF\", \"TotalBsmtSF\", \"BsmtFullBath\", \"BsmtHalfBath\"):\n",
    "    all_data[col] = all_data[col].fillna(0)"
   ]
  },
  {
   "cell_type": "code",
   "execution_count": null,
   "metadata": {},
   "outputs": [],
   "source": [
    "na_proportion = all_data.isnull().sum() / len(all_data) * 100\n",
    "na_proportion = na_proportion.drop(na_proportion[na_proportion == 0].index)\n",
    "na_proportion = na_proportion.sort_values(ascending=False)\n",
    "na_proportion = pd.DataFrame({\"NA proportion\": na_proportion})\n",
    "na_proportion.head(50)"
   ]
  },
  {
   "attachments": {},
   "cell_type": "markdown",
   "metadata": {},
   "source": [
    "Many categorical variables have orders. Let's encode them in the correct order:"
   ]
  },
  {
   "cell_type": "code",
   "execution_count": null,
   "metadata": {},
   "outputs": [],
   "source": [
    "from category_encoders import OrdinalEncoder\n",
    "\n",
    "col_mapping = [\n",
    "    {\n",
    "        \"col\": \"FireplaceQu\",\n",
    "        \"mapping\": [\"Ex\", \"Gd\", \"TA\", \"Fa\", \"Po\", \"None\"],\n",
    "    },\n",
    "    {\n",
    "        \"col\": \"BsmtQual\",\n",
    "        \"mapping\": [\"Ex\", \"Gd\", \"TA\", \"Fa\", \"Po\", \"None\"],\n",
    "    },\n",
    "    {\n",
    "        \"col\": \"BsmtCond\",\n",
    "        \"mapping\": [\"Ex\", \"Gd\", \"TA\", \"Fa\", \"Po\", \"None\"],\n",
    "    },\n",
    "    {\n",
    "        \"col\": \"GarageQual\",\n",
    "        \"mapping\": [\"Ex\", \"Gd\", \"TA\", \"Fa\", \"Po\", \"None\"],\n",
    "    },\n",
    "    {\n",
    "        \"col\": \"GarageCond\",\n",
    "        \"mapping\": [\"Ex\", \"Gd\", \"TA\", \"Fa\", \"Po\", \"None\"],\n",
    "    },\n",
    "    {\n",
    "        \"col\": \"ExterQual\",\n",
    "        \"mapping\": [\"Ex\", \"Gd\", \"TA\", \"Fa\", \"Po\", \"None\"],\n",
    "    },\n",
    "    {\n",
    "        \"col\": \"ExterCond\",\n",
    "        \"mapping\": [\"Ex\", \"Gd\", \"TA\", \"Fa\", \"Po\", \"None\"],\n",
    "    },\n",
    "    {\n",
    "        \"col\": \"HeatingQC\",\n",
    "        \"mapping\": [\"Ex\", \"Gd\", \"TA\", \"Fa\", \"Po\", \"None\"],\n",
    "    },\n",
    "    {\n",
    "        \"col\": \"PoolQC\",\n",
    "        \"mapping\": [\"Ex\", \"Gd\", \"TA\", \"Fa\", \"Po\", \"None\"],\n",
    "    },\n",
    "    {\n",
    "        \"col\": \"KitchenQual\",\n",
    "        \"mapping\": [\"Ex\", \"Gd\", \"TA\", \"Fa\", \"Po\", \"None\"],\n",
    "    },\n",
    "    {\n",
    "        \"col\": \"BsmtFinType1\",\n",
    "        \"mapping\": [\"GLQ\", \"ALQ\", \"BLQ\", \"Rec\", \"LwQ\", \"Unf\", \"None\"],\n",
    "    },\n",
    "    {\n",
    "        \"col\": \"BsmtFinType2\",\n",
    "        \"mapping\": [\"GLQ\", \"ALQ\", \"BLQ\", \"Rec\", \"LwQ\", \"Unf\", \"None\"],\n",
    "    },\n",
    "    {\n",
    "        \"col\": \"Functional\",\n",
    "        \"mapping\": [\"Typ\", \"Min1\", \"Min2\", \"Mod\", \"Maj1\", \"Maj2\", \"Sev\", \"Sal\"],\n",
    "    },\n",
    "    {\n",
    "        \"col\": \"Fence\",\n",
    "        \"mapping\": [\"GdPrv\", \"MnPrv\", \"GdWo\", \"MnWw\", \"None\"],\n",
    "    },\n",
    "    {\n",
    "        \"col\": \"BsmtExposure\",\n",
    "        \"mapping\": [\"Gd\", \"Av\", \"Mn\", \"No\", \"None\"],\n",
    "    },\n",
    "    {\n",
    "        \"col\": \"GarageFinish\",\n",
    "        \"mapping\": [\"Fin\", \"RFn\", \"Unf\", \"None\"],\n",
    "    },\n",
    "    {\n",
    "        \"col\": \"LandSlope\",\n",
    "        \"mapping\": [\"Gtl\", \"Mod\", \"Sev\"],\n",
    "    },\n",
    "    {\n",
    "        \"col\": \"LotShape\",\n",
    "        \"mapping\": [\"Reg\", \"IR1\", \"IR2\", \"IR3\"],\n",
    "    },\n",
    "]\n",
    "\n",
    "for mapping_dict in col_mapping:\n",
    "    mapping_dict[\"mapping\"] = {x: i for i, x in enumerate(mapping_dict[\"mapping\"])}\n",
    "\n",
    "ordinal_encoder = OrdinalEncoder(mapping=col_mapping)\n",
    "\n",
    "ordinal_encoder.fit(all_data)\n",
    "all_data_encoded = ordinal_encoder.transform(all_data)"
   ]
  }
 ],
 "metadata": {
  "kernelspec": {
   "display_name": "base",
   "language": "python",
   "name": "python3"
  },
  "language_info": {
   "codemirror_mode": {
    "name": "ipython",
    "version": 3
   },
   "file_extension": ".py",
   "mimetype": "text/x-python",
   "name": "python",
   "nbconvert_exporter": "python",
   "pygments_lexer": "ipython3",
   "version": "3.10.8"
  },
  "orig_nbformat": 4,
  "vscode": {
   "interpreter": {
    "hash": "9db47ae5badfead9fd39188fd18ff2ce368bc487d9efee61e4db9417ef6acdbc"
   }
  }
 },
 "nbformat": 4,
 "nbformat_minor": 2
}
